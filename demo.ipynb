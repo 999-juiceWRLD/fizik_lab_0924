{
 "cells": [
  {
   "cell_type": "markdown",
   "metadata": {},
   "source": [
    "# Fizik Lab I Uygulama"
   ]
  },
  {
   "cell_type": "markdown",
   "metadata": {},
   "source": [
    "Ölçüm verileri:\n",
    "- `cube_ruler`: Cetvel ile küp üzerinde yapılan ölçümler.\n",
    "- `sphere_caliper`: Küre üzerinde kompas ile yapılan ölçümler.\n",
    "- `sphere_micrometer`: Küre üzerinde mikrometre ile yapılan ölçümler."
   ]
  },
  {
   "cell_type": "code",
   "execution_count": 1,
   "metadata": {},
   "outputs": [],
   "source": [
    "from calc import (cube_ruler, sphere_caliper, sphere_micrometer,\n",
    "            get_absolute_error, get_relative_error, standard_deviation,\n",
    "            absolute_error_dataframe, relative_error_dataframe, std_df,\n",
    "            sphere_volume, sphere_volume_df)"
   ]
  },
  {
   "cell_type": "code",
   "execution_count": 2,
   "metadata": {},
   "outputs": [
    {
     "data": {
      "text/plain": [
       "[4.45, 4.4, 4.45, 4.4, 4.45, 4.45, 4.4, 4.45, 4.4, 4.45]"
      ]
     },
     "execution_count": 2,
     "metadata": {},
     "output_type": "execute_result"
    }
   ],
   "source": [
    "cube_ruler ## cm"
   ]
  },
  {
   "cell_type": "code",
   "execution_count": 3,
   "metadata": {},
   "outputs": [
    {
     "data": {
      "text/plain": [
       "[23.02, 23.7, 23.8, 23.84, 23.9, 23.68, 23.8, 23.7, 23.8, 23.7]"
      ]
     },
     "execution_count": 3,
     "metadata": {},
     "output_type": "execute_result"
    }
   ],
   "source": [
    "sphere_caliper # mm"
   ]
  },
  {
   "cell_type": "code",
   "execution_count": 4,
   "metadata": {},
   "outputs": [
    {
     "data": {
      "text/plain": [
       "[23.06,\n",
       " 23.05,\n",
       " 23.49,\n",
       " 23.48,\n",
       " 23.47,\n",
       " 23.01,\n",
       " 23.49,\n",
       " 23.49,\n",
       " 23.02,\n",
       " 23.06,\n",
       " 23.03,\n",
       " 23.0,\n",
       " 23.02,\n",
       " 23.07,\n",
       " 23.08,\n",
       " 23.11,\n",
       " 23.03,\n",
       " 23.02,\n",
       " 23.49,\n",
       " 23.47]"
      ]
     },
     "execution_count": 4,
     "metadata": {},
     "output_type": "execute_result"
    }
   ],
   "source": [
    "sphere_micrometer # mm"
   ]
  },
  {
   "cell_type": "markdown",
   "metadata": {},
   "source": [
    "## 1. Aritmetik Ortalama ($\\overline{\\mu}$)"
   ]
  },
  {
   "cell_type": "markdown",
   "metadata": {},
   "source": [
    "$$ Mean = (\\overline{\\mu}) = \\frac{1}{N} \\sum_{i=1}^{N} x_i$$"
   ]
  },
  {
   "cell_type": "code",
   "execution_count": 5,
   "metadata": {},
   "outputs": [],
   "source": [
    "cube_mean = round(sum(cube_ruler) / len(cube_ruler), 2)\n",
    "sphere_caliper_mean = round(sum(sphere_caliper) / len(sphere_caliper), 2)\n",
    "sphere_micrometer_mean = round(sum(sphere_micrometer) / len(sphere_micrometer), 2)"
   ]
  },
  {
   "cell_type": "code",
   "execution_count": 6,
   "metadata": {},
   "outputs": [
    {
     "name": "stdout",
     "output_type": "stream",
     "text": [
      "4.43\n",
      "23.69\n",
      "23.2\n"
     ]
    }
   ],
   "source": [
    "print(cube_mean)\n",
    "print(sphere_caliper_mean)\n",
    "print(sphere_micrometer_mean)"
   ]
  },
  {
   "cell_type": "markdown",
   "metadata": {},
   "source": [
    "## 2. Mutlak Hata\n",
    "\n",
    "$$ AE  = |x_i - \\overline{x}| $$"
   ]
  },
  {
   "cell_type": "code",
   "execution_count": 7,
   "metadata": {},
   "outputs": [],
   "source": [
    "cube_absolute_error = get_absolute_error(cube_ruler, cube_mean)\n",
    "sphere_caliper_absolute_error = get_absolute_error(sphere_caliper, sphere_caliper_mean)\n",
    "sphere_micrometer_absolute_error = get_absolute_error(sphere_micrometer, sphere_micrometer_mean)"
   ]
  },
  {
   "cell_type": "code",
   "execution_count": 8,
   "metadata": {},
   "outputs": [
    {
     "name": "stdout",
     "output_type": "stream",
     "text": [
      "[0.02, 0.03, 0.02, 0.03, 0.02, 0.02, 0.03, 0.02, 0.03, 0.02]\n",
      "[0.67, 0.01, 0.11, 0.15, 0.21, 0.01, 0.11, 0.01, 0.11, 0.01]\n",
      "[0.14, 0.15, 0.29, 0.28, 0.27, 0.19, 0.29, 0.29, 0.18, 0.14, 0.17, 0.2, 0.18, 0.13, 0.12, 0.09, 0.17, 0.18, 0.29, 0.27]\n"
     ]
    }
   ],
   "source": [
    "print(cube_absolute_error)\n",
    "print(sphere_caliper_absolute_error)\n",
    "print(sphere_micrometer_absolute_error)"
   ]
  },
  {
   "cell_type": "markdown",
   "metadata": {},
   "source": [
    "## 3. Bağıl Hata\n",
    "\n",
    "$$ RE = \\frac{|x_i - \\overline{x}|}{|x_i|} $$"
   ]
  },
  {
   "cell_type": "code",
   "execution_count": 9,
   "metadata": {},
   "outputs": [],
   "source": [
    "cube_relative_error = get_relative_error(cube_ruler, cube_mean)\n",
    "sphere_caliper_relative_error = get_relative_error(sphere_caliper, sphere_caliper_mean)\n",
    "sphere_micrometer_relative_error = get_relative_error(sphere_micrometer, sphere_caliper_mean)"
   ]
  },
  {
   "cell_type": "code",
   "execution_count": 10,
   "metadata": {},
   "outputs": [
    {
     "name": "stdout",
     "output_type": "stream",
     "text": [
      "[0.0, 0.01, 0.0, 0.01, 0.0, 0.0, 0.01, 0.0, 0.01, 0.0]\n",
      "[0.03, 0.0, 0.0, 0.01, 0.01, 0.0, 0.0, 0.0, 0.0, 0.0]\n",
      "[0.03, 0.03, 0.01, 0.01, 0.01, 0.03, 0.01, 0.01, 0.03, 0.03, 0.03, 0.03, 0.03, 0.03, 0.03, 0.03, 0.03, 0.03, 0.01, 0.01]\n"
     ]
    }
   ],
   "source": [
    "print(cube_relative_error)\n",
    "print(sphere_caliper_relative_error)\n",
    "print(sphere_micrometer_relative_error)"
   ]
  },
  {
   "cell_type": "markdown",
   "metadata": {},
   "source": [
    "Verileri daha rahatça görmek için `pandas.DataFrame` kullanılabilir. Fakat her ölçümün sayısı eşit olmadığı için, eksik kalan kısımlar `numpy.pad` fonksiyonu ile `np.nan` olarak gösterilecektir."
   ]
  },
  {
   "cell_type": "markdown",
   "metadata": {},
   "source": [
    "### Mutlak Hata Tablosu"
   ]
  },
  {
   "cell_type": "code",
   "execution_count": 11,
   "metadata": {},
   "outputs": [
    {
     "data": {
      "text/html": [
       "<div>\n",
       "<style scoped>\n",
       "    .dataframe tbody tr th:only-of-type {\n",
       "        vertical-align: middle;\n",
       "    }\n",
       "\n",
       "    .dataframe tbody tr th {\n",
       "        vertical-align: top;\n",
       "    }\n",
       "\n",
       "    .dataframe thead th {\n",
       "        text-align: right;\n",
       "    }\n",
       "</style>\n",
       "<table border=\"1\" class=\"dataframe\">\n",
       "  <thead>\n",
       "    <tr style=\"text-align: right;\">\n",
       "      <th></th>\n",
       "      <th>Küp Mutlak Hata</th>\n",
       "      <th>Küre Kumpas Mutlak Hata</th>\n",
       "      <th>Küre Mikrometre Mutlak Hata</th>\n",
       "    </tr>\n",
       "  </thead>\n",
       "  <tbody>\n",
       "    <tr>\n",
       "      <th>0</th>\n",
       "      <td>0.02</td>\n",
       "      <td>0.67</td>\n",
       "      <td>0.14</td>\n",
       "    </tr>\n",
       "    <tr>\n",
       "      <th>1</th>\n",
       "      <td>0.03</td>\n",
       "      <td>0.01</td>\n",
       "      <td>0.15</td>\n",
       "    </tr>\n",
       "    <tr>\n",
       "      <th>2</th>\n",
       "      <td>0.02</td>\n",
       "      <td>0.11</td>\n",
       "      <td>0.29</td>\n",
       "    </tr>\n",
       "    <tr>\n",
       "      <th>3</th>\n",
       "      <td>0.03</td>\n",
       "      <td>0.15</td>\n",
       "      <td>0.28</td>\n",
       "    </tr>\n",
       "    <tr>\n",
       "      <th>4</th>\n",
       "      <td>0.02</td>\n",
       "      <td>0.21</td>\n",
       "      <td>0.27</td>\n",
       "    </tr>\n",
       "    <tr>\n",
       "      <th>5</th>\n",
       "      <td>0.02</td>\n",
       "      <td>0.01</td>\n",
       "      <td>0.19</td>\n",
       "    </tr>\n",
       "    <tr>\n",
       "      <th>6</th>\n",
       "      <td>0.03</td>\n",
       "      <td>0.11</td>\n",
       "      <td>0.29</td>\n",
       "    </tr>\n",
       "    <tr>\n",
       "      <th>7</th>\n",
       "      <td>0.02</td>\n",
       "      <td>0.01</td>\n",
       "      <td>0.29</td>\n",
       "    </tr>\n",
       "    <tr>\n",
       "      <th>8</th>\n",
       "      <td>0.03</td>\n",
       "      <td>0.11</td>\n",
       "      <td>0.18</td>\n",
       "    </tr>\n",
       "    <tr>\n",
       "      <th>9</th>\n",
       "      <td>0.02</td>\n",
       "      <td>0.01</td>\n",
       "      <td>0.14</td>\n",
       "    </tr>\n",
       "    <tr>\n",
       "      <th>10</th>\n",
       "      <td>NaN</td>\n",
       "      <td>NaN</td>\n",
       "      <td>0.17</td>\n",
       "    </tr>\n",
       "    <tr>\n",
       "      <th>11</th>\n",
       "      <td>NaN</td>\n",
       "      <td>NaN</td>\n",
       "      <td>0.20</td>\n",
       "    </tr>\n",
       "    <tr>\n",
       "      <th>12</th>\n",
       "      <td>NaN</td>\n",
       "      <td>NaN</td>\n",
       "      <td>0.18</td>\n",
       "    </tr>\n",
       "    <tr>\n",
       "      <th>13</th>\n",
       "      <td>NaN</td>\n",
       "      <td>NaN</td>\n",
       "      <td>0.13</td>\n",
       "    </tr>\n",
       "    <tr>\n",
       "      <th>14</th>\n",
       "      <td>NaN</td>\n",
       "      <td>NaN</td>\n",
       "      <td>0.12</td>\n",
       "    </tr>\n",
       "    <tr>\n",
       "      <th>15</th>\n",
       "      <td>NaN</td>\n",
       "      <td>NaN</td>\n",
       "      <td>0.09</td>\n",
       "    </tr>\n",
       "    <tr>\n",
       "      <th>16</th>\n",
       "      <td>NaN</td>\n",
       "      <td>NaN</td>\n",
       "      <td>0.17</td>\n",
       "    </tr>\n",
       "    <tr>\n",
       "      <th>17</th>\n",
       "      <td>NaN</td>\n",
       "      <td>NaN</td>\n",
       "      <td>0.18</td>\n",
       "    </tr>\n",
       "    <tr>\n",
       "      <th>18</th>\n",
       "      <td>NaN</td>\n",
       "      <td>NaN</td>\n",
       "      <td>0.29</td>\n",
       "    </tr>\n",
       "    <tr>\n",
       "      <th>19</th>\n",
       "      <td>NaN</td>\n",
       "      <td>NaN</td>\n",
       "      <td>0.27</td>\n",
       "    </tr>\n",
       "  </tbody>\n",
       "</table>\n",
       "</div>"
      ],
      "text/plain": [
       "    Küp Mutlak Hata  Küre Kumpas Mutlak Hata  Küre Mikrometre Mutlak Hata\n",
       "0              0.02                     0.67                         0.14\n",
       "1              0.03                     0.01                         0.15\n",
       "2              0.02                     0.11                         0.29\n",
       "3              0.03                     0.15                         0.28\n",
       "4              0.02                     0.21                         0.27\n",
       "5              0.02                     0.01                         0.19\n",
       "6              0.03                     0.11                         0.29\n",
       "7              0.02                     0.01                         0.29\n",
       "8              0.03                     0.11                         0.18\n",
       "9              0.02                     0.01                         0.14\n",
       "10              NaN                      NaN                         0.17\n",
       "11              NaN                      NaN                         0.20\n",
       "12              NaN                      NaN                         0.18\n",
       "13              NaN                      NaN                         0.13\n",
       "14              NaN                      NaN                         0.12\n",
       "15              NaN                      NaN                         0.09\n",
       "16              NaN                      NaN                         0.17\n",
       "17              NaN                      NaN                         0.18\n",
       "18              NaN                      NaN                         0.29\n",
       "19              NaN                      NaN                         0.27"
      ]
     },
     "execution_count": 11,
     "metadata": {},
     "output_type": "execute_result"
    }
   ],
   "source": [
    "absolute_error_dataframe"
   ]
  },
  {
   "cell_type": "markdown",
   "metadata": {},
   "source": [
    "### Bağıl Hata Tablosu"
   ]
  },
  {
   "cell_type": "code",
   "execution_count": 12,
   "metadata": {},
   "outputs": [
    {
     "data": {
      "text/html": [
       "<div>\n",
       "<style scoped>\n",
       "    .dataframe tbody tr th:only-of-type {\n",
       "        vertical-align: middle;\n",
       "    }\n",
       "\n",
       "    .dataframe tbody tr th {\n",
       "        vertical-align: top;\n",
       "    }\n",
       "\n",
       "    .dataframe thead th {\n",
       "        text-align: right;\n",
       "    }\n",
       "</style>\n",
       "<table border=\"1\" class=\"dataframe\">\n",
       "  <thead>\n",
       "    <tr style=\"text-align: right;\">\n",
       "      <th></th>\n",
       "      <th>Küp Bağıl Hata</th>\n",
       "      <th>Küre Kumpas Bağıl Hata</th>\n",
       "      <th>Küre Mikrometre Bağıl Hata</th>\n",
       "    </tr>\n",
       "  </thead>\n",
       "  <tbody>\n",
       "    <tr>\n",
       "      <th>0</th>\n",
       "      <td>0.00</td>\n",
       "      <td>0.03</td>\n",
       "      <td>0.03</td>\n",
       "    </tr>\n",
       "    <tr>\n",
       "      <th>1</th>\n",
       "      <td>0.01</td>\n",
       "      <td>0.00</td>\n",
       "      <td>0.03</td>\n",
       "    </tr>\n",
       "    <tr>\n",
       "      <th>2</th>\n",
       "      <td>0.00</td>\n",
       "      <td>0.00</td>\n",
       "      <td>0.01</td>\n",
       "    </tr>\n",
       "    <tr>\n",
       "      <th>3</th>\n",
       "      <td>0.01</td>\n",
       "      <td>0.01</td>\n",
       "      <td>0.01</td>\n",
       "    </tr>\n",
       "    <tr>\n",
       "      <th>4</th>\n",
       "      <td>0.00</td>\n",
       "      <td>0.01</td>\n",
       "      <td>0.01</td>\n",
       "    </tr>\n",
       "    <tr>\n",
       "      <th>5</th>\n",
       "      <td>0.00</td>\n",
       "      <td>0.00</td>\n",
       "      <td>0.03</td>\n",
       "    </tr>\n",
       "    <tr>\n",
       "      <th>6</th>\n",
       "      <td>0.01</td>\n",
       "      <td>0.00</td>\n",
       "      <td>0.01</td>\n",
       "    </tr>\n",
       "    <tr>\n",
       "      <th>7</th>\n",
       "      <td>0.00</td>\n",
       "      <td>0.00</td>\n",
       "      <td>0.01</td>\n",
       "    </tr>\n",
       "    <tr>\n",
       "      <th>8</th>\n",
       "      <td>0.01</td>\n",
       "      <td>0.00</td>\n",
       "      <td>0.03</td>\n",
       "    </tr>\n",
       "    <tr>\n",
       "      <th>9</th>\n",
       "      <td>0.00</td>\n",
       "      <td>0.00</td>\n",
       "      <td>0.03</td>\n",
       "    </tr>\n",
       "    <tr>\n",
       "      <th>10</th>\n",
       "      <td>NaN</td>\n",
       "      <td>NaN</td>\n",
       "      <td>0.03</td>\n",
       "    </tr>\n",
       "    <tr>\n",
       "      <th>11</th>\n",
       "      <td>NaN</td>\n",
       "      <td>NaN</td>\n",
       "      <td>0.03</td>\n",
       "    </tr>\n",
       "    <tr>\n",
       "      <th>12</th>\n",
       "      <td>NaN</td>\n",
       "      <td>NaN</td>\n",
       "      <td>0.03</td>\n",
       "    </tr>\n",
       "    <tr>\n",
       "      <th>13</th>\n",
       "      <td>NaN</td>\n",
       "      <td>NaN</td>\n",
       "      <td>0.03</td>\n",
       "    </tr>\n",
       "    <tr>\n",
       "      <th>14</th>\n",
       "      <td>NaN</td>\n",
       "      <td>NaN</td>\n",
       "      <td>0.03</td>\n",
       "    </tr>\n",
       "    <tr>\n",
       "      <th>15</th>\n",
       "      <td>NaN</td>\n",
       "      <td>NaN</td>\n",
       "      <td>0.03</td>\n",
       "    </tr>\n",
       "    <tr>\n",
       "      <th>16</th>\n",
       "      <td>NaN</td>\n",
       "      <td>NaN</td>\n",
       "      <td>0.03</td>\n",
       "    </tr>\n",
       "    <tr>\n",
       "      <th>17</th>\n",
       "      <td>NaN</td>\n",
       "      <td>NaN</td>\n",
       "      <td>0.03</td>\n",
       "    </tr>\n",
       "    <tr>\n",
       "      <th>18</th>\n",
       "      <td>NaN</td>\n",
       "      <td>NaN</td>\n",
       "      <td>0.01</td>\n",
       "    </tr>\n",
       "    <tr>\n",
       "      <th>19</th>\n",
       "      <td>NaN</td>\n",
       "      <td>NaN</td>\n",
       "      <td>0.01</td>\n",
       "    </tr>\n",
       "  </tbody>\n",
       "</table>\n",
       "</div>"
      ],
      "text/plain": [
       "    Küp Bağıl Hata  Küre Kumpas Bağıl Hata  Küre Mikrometre Bağıl Hata\n",
       "0             0.00                    0.03                        0.03\n",
       "1             0.01                    0.00                        0.03\n",
       "2             0.00                    0.00                        0.01\n",
       "3             0.01                    0.01                        0.01\n",
       "4             0.00                    0.01                        0.01\n",
       "5             0.00                    0.00                        0.03\n",
       "6             0.01                    0.00                        0.01\n",
       "7             0.00                    0.00                        0.01\n",
       "8             0.01                    0.00                        0.03\n",
       "9             0.00                    0.00                        0.03\n",
       "10             NaN                     NaN                        0.03\n",
       "11             NaN                     NaN                        0.03\n",
       "12             NaN                     NaN                        0.03\n",
       "13             NaN                     NaN                        0.03\n",
       "14             NaN                     NaN                        0.03\n",
       "15             NaN                     NaN                        0.03\n",
       "16             NaN                     NaN                        0.03\n",
       "17             NaN                     NaN                        0.03\n",
       "18             NaN                     NaN                        0.01\n",
       "19             NaN                     NaN                        0.01"
      ]
     },
     "execution_count": 12,
     "metadata": {},
     "output_type": "execute_result"
    }
   ],
   "source": [
    "relative_error_dataframe"
   ]
  },
  {
   "cell_type": "markdown",
   "metadata": {},
   "source": [
    "## 4. Standart Sapma ($\\sigma $)\n",
    "\n",
    "$$ \\sigma = \\sqrt{\\sum_{i=1}^{N} \\frac{(x_i - \\overline{x})^2}{N - 1} } $$"
   ]
  },
  {
   "cell_type": "code",
   "execution_count": 13,
   "metadata": {},
   "outputs": [],
   "source": [
    "cube_std = standard_deviation(cube_ruler, cube_mean, len(cube_ruler))\n",
    "sphere_caliper_std = standard_deviation(sphere_caliper, sphere_caliper_mean, len(sphere_caliper))\n",
    "sphere_micrometer_std = standard_deviation(sphere_micrometer, sphere_micrometer_mean, len(sphere_micrometer))"
   ]
  },
  {
   "cell_type": "code",
   "execution_count": 14,
   "metadata": {},
   "outputs": [
    {
     "name": "stdout",
     "output_type": "stream",
     "text": [
      "0.02581988897471602\n",
      "0.24770053604212405\n",
      "0.2167705553902796\n"
     ]
    }
   ],
   "source": [
    "print(cube_std)\n",
    "print(sphere_caliper_std)\n",
    "print(sphere_micrometer_std)"
   ]
  },
  {
   "cell_type": "markdown",
   "metadata": {},
   "source": [
    "### Standart Deviasyon Tablosu"
   ]
  },
  {
   "cell_type": "code",
   "execution_count": 15,
   "metadata": {},
   "outputs": [
    {
     "data": {
      "text/html": [
       "<div>\n",
       "<style scoped>\n",
       "    .dataframe tbody tr th:only-of-type {\n",
       "        vertical-align: middle;\n",
       "    }\n",
       "\n",
       "    .dataframe tbody tr th {\n",
       "        vertical-align: top;\n",
       "    }\n",
       "\n",
       "    .dataframe thead th {\n",
       "        text-align: right;\n",
       "    }\n",
       "</style>\n",
       "<table border=\"1\" class=\"dataframe\">\n",
       "  <thead>\n",
       "    <tr style=\"text-align: right;\">\n",
       "      <th></th>\n",
       "      <th>Küp Std</th>\n",
       "      <th>Küre Kumpas Std</th>\n",
       "      <th>Küre Mikrometre Std</th>\n",
       "    </tr>\n",
       "  </thead>\n",
       "  <tbody>\n",
       "    <tr>\n",
       "      <th>1</th>\n",
       "      <td>0.02582</td>\n",
       "      <td>0.247665</td>\n",
       "      <td>0.216749</td>\n",
       "    </tr>\n",
       "  </tbody>\n",
       "</table>\n",
       "</div>"
      ],
      "text/plain": [
       "   Küp Std  Küre Kumpas Std  Küre Mikrometre Std\n",
       "1  0.02582         0.247665             0.216749"
      ]
     },
     "execution_count": 15,
     "metadata": {},
     "output_type": "execute_result"
    }
   ],
   "source": [
    "std_df"
   ]
  },
  {
   "cell_type": "markdown",
   "metadata": {},
   "source": [
    "## 5. Kürenin Hacmi ($V$)\n",
    "\n",
    "$$ V = \\frac{4}{3}\\pi R^3$$"
   ]
  },
  {
   "cell_type": "code",
   "execution_count": 16,
   "metadata": {},
   "outputs": [],
   "source": [
    "sphere_caliper_volume = sphere_volume(sphere_caliper)\n",
    "sphere_micrometer_volume = sphere_volume(sphere_micrometer)"
   ]
  },
  {
   "cell_type": "markdown",
   "metadata": {},
   "source": [
    "Her bir ölçüme denk gelen yarıçap için hacim hesabı."
   ]
  },
  {
   "cell_type": "code",
   "execution_count": 17,
   "metadata": {},
   "outputs": [
    {
     "name": "stdout",
     "output_type": "stream",
     "text": [
      "[48.21297525709135, 49.63716392671873, 49.84660343695805, 49.93037924105378, 50.05604294719736, 49.595276024670866, 49.84660343695805, 49.63716392671873, 49.84660343695805, 49.63716392671873]\n",
      "[48.29675106118708, 48.27580711016315, 49.197340955216156, 49.176397004192225, 49.15545305316829, 48.19203130606743, 49.197340955216156, 49.197340955216156, 48.21297525709135, 48.29675106118708, 48.23391920811529, 48.17108735504349, 48.21297525709135, 48.31769501221102, 48.33863896323494, 48.40147081630674, 48.23391920811529, 48.21297525709135, 49.197340955216156, 49.15545305316829]\n"
     ]
    }
   ],
   "source": [
    "print(sphere_caliper_volume)\n",
    "print(sphere_micrometer_volume)"
   ]
  },
  {
   "cell_type": "markdown",
   "metadata": {},
   "source": [
    "### Küre Hacim Tablosu"
   ]
  },
  {
   "cell_type": "code",
   "execution_count": 18,
   "metadata": {},
   "outputs": [
    {
     "data": {
      "text/html": [
       "<div>\n",
       "<style scoped>\n",
       "    .dataframe tbody tr th:only-of-type {\n",
       "        vertical-align: middle;\n",
       "    }\n",
       "\n",
       "    .dataframe tbody tr th {\n",
       "        vertical-align: top;\n",
       "    }\n",
       "\n",
       "    .dataframe thead th {\n",
       "        text-align: right;\n",
       "    }\n",
       "</style>\n",
       "<table border=\"1\" class=\"dataframe\">\n",
       "  <thead>\n",
       "    <tr style=\"text-align: right;\">\n",
       "      <th></th>\n",
       "      <th>Küre Kumpas Hacim</th>\n",
       "      <th>Küre Mikrometre Hacim</th>\n",
       "    </tr>\n",
       "  </thead>\n",
       "  <tbody>\n",
       "    <tr>\n",
       "      <th>0</th>\n",
       "      <td>48.212975</td>\n",
       "      <td>48.296751</td>\n",
       "    </tr>\n",
       "    <tr>\n",
       "      <th>1</th>\n",
       "      <td>49.637164</td>\n",
       "      <td>48.275807</td>\n",
       "    </tr>\n",
       "    <tr>\n",
       "      <th>2</th>\n",
       "      <td>49.846603</td>\n",
       "      <td>49.197341</td>\n",
       "    </tr>\n",
       "    <tr>\n",
       "      <th>3</th>\n",
       "      <td>49.930379</td>\n",
       "      <td>49.176397</td>\n",
       "    </tr>\n",
       "    <tr>\n",
       "      <th>4</th>\n",
       "      <td>50.056043</td>\n",
       "      <td>49.155453</td>\n",
       "    </tr>\n",
       "    <tr>\n",
       "      <th>5</th>\n",
       "      <td>49.595276</td>\n",
       "      <td>48.192031</td>\n",
       "    </tr>\n",
       "    <tr>\n",
       "      <th>6</th>\n",
       "      <td>49.846603</td>\n",
       "      <td>49.197341</td>\n",
       "    </tr>\n",
       "    <tr>\n",
       "      <th>7</th>\n",
       "      <td>49.637164</td>\n",
       "      <td>49.197341</td>\n",
       "    </tr>\n",
       "    <tr>\n",
       "      <th>8</th>\n",
       "      <td>49.846603</td>\n",
       "      <td>48.212975</td>\n",
       "    </tr>\n",
       "    <tr>\n",
       "      <th>9</th>\n",
       "      <td>49.637164</td>\n",
       "      <td>48.296751</td>\n",
       "    </tr>\n",
       "    <tr>\n",
       "      <th>10</th>\n",
       "      <td>NaN</td>\n",
       "      <td>48.233919</td>\n",
       "    </tr>\n",
       "    <tr>\n",
       "      <th>11</th>\n",
       "      <td>NaN</td>\n",
       "      <td>48.171087</td>\n",
       "    </tr>\n",
       "    <tr>\n",
       "      <th>12</th>\n",
       "      <td>NaN</td>\n",
       "      <td>48.212975</td>\n",
       "    </tr>\n",
       "    <tr>\n",
       "      <th>13</th>\n",
       "      <td>NaN</td>\n",
       "      <td>48.317695</td>\n",
       "    </tr>\n",
       "    <tr>\n",
       "      <th>14</th>\n",
       "      <td>NaN</td>\n",
       "      <td>48.338639</td>\n",
       "    </tr>\n",
       "    <tr>\n",
       "      <th>15</th>\n",
       "      <td>NaN</td>\n",
       "      <td>48.401471</td>\n",
       "    </tr>\n",
       "    <tr>\n",
       "      <th>16</th>\n",
       "      <td>NaN</td>\n",
       "      <td>48.233919</td>\n",
       "    </tr>\n",
       "    <tr>\n",
       "      <th>17</th>\n",
       "      <td>NaN</td>\n",
       "      <td>48.212975</td>\n",
       "    </tr>\n",
       "    <tr>\n",
       "      <th>18</th>\n",
       "      <td>NaN</td>\n",
       "      <td>49.197341</td>\n",
       "    </tr>\n",
       "    <tr>\n",
       "      <th>19</th>\n",
       "      <td>NaN</td>\n",
       "      <td>49.155453</td>\n",
       "    </tr>\n",
       "  </tbody>\n",
       "</table>\n",
       "</div>"
      ],
      "text/plain": [
       "    Küre Kumpas Hacim  Küre Mikrometre Hacim\n",
       "0           48.212975              48.296751\n",
       "1           49.637164              48.275807\n",
       "2           49.846603              49.197341\n",
       "3           49.930379              49.176397\n",
       "4           50.056043              49.155453\n",
       "5           49.595276              48.192031\n",
       "6           49.846603              49.197341\n",
       "7           49.637164              49.197341\n",
       "8           49.846603              48.212975\n",
       "9           49.637164              48.296751\n",
       "10                NaN              48.233919\n",
       "11                NaN              48.171087\n",
       "12                NaN              48.212975\n",
       "13                NaN              48.317695\n",
       "14                NaN              48.338639\n",
       "15                NaN              48.401471\n",
       "16                NaN              48.233919\n",
       "17                NaN              48.212975\n",
       "18                NaN              49.197341\n",
       "19                NaN              49.155453"
      ]
     },
     "execution_count": 18,
     "metadata": {},
     "output_type": "execute_result"
    }
   ],
   "source": [
    "sphere_volume_df"
   ]
  },
  {
   "cell_type": "code",
   "execution_count": null,
   "metadata": {},
   "outputs": [],
   "source": []
  }
 ],
 "metadata": {
  "kernelspec": {
   "display_name": "base",
   "language": "python",
   "name": "python3"
  },
  "language_info": {
   "codemirror_mode": {
    "name": "ipython",
    "version": 3
   },
   "file_extension": ".py",
   "mimetype": "text/x-python",
   "name": "python",
   "nbconvert_exporter": "python",
   "pygments_lexer": "ipython3",
   "version": "3.11.5"
  }
 },
 "nbformat": 4,
 "nbformat_minor": 2
}
